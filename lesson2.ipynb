{
 "cells": [
  {
   "cell_type": "markdown",
   "metadata": {},
   "source": [
    "1. Вероятность того, что стрелок попадет в мишень, выстрелив один раз, равна 0.8. Стрелок выстрелил 100 раз. Найдите вероятность того, что стрелок попадет в цель ровно 85 раз."
   ]
  },
  {
   "cell_type": "code",
   "execution_count": 1,
   "metadata": {},
   "outputs": [
    {
     "name": "stdout",
     "output_type": "stream",
     "text": [
      "P(X=85) = 0.0481\n"
     ]
    }
   ],
   "source": [
    "from math import sqrt, factorial, e\n",
    "\n",
    "# сочетание C - кол-во способов взять k элем-ов из множ-ва n без учета порядка расположения\n",
    "def C(n, k):\n",
    "    return factorial(n) // (factorial(k) * (factorial(n - k)))\n",
    "\n",
    "p = C(100,85) * 0.8**85 * (1-0.8)**15\n",
    "print(f'P(X=85) = {p:.4f}')"
   ]
  },
  {
   "cell_type": "markdown",
   "metadata": {},
   "source": [
    "2. Вероятность того, что лампочка перегорит в течение первого дня эксплуатации, равна 0.0004. В жилом комплексе после ремонта в один день включили 5000 новых лампочек. Какова вероятность, что ни одна из них не перегорит в первый день? Какова вероятность, что перегорят ровно две?"
   ]
  },
  {
   "cell_type": "code",
   "execution_count": 2,
   "metadata": {},
   "outputs": [
    {
     "name": "stdout",
     "output_type": "stream",
     "text": [
      "P(0) = 0.1353\n",
      "P(2) = 0.2707\n"
     ]
    }
   ],
   "source": [
    "l = 5000 * 0.0004\n",
    "for m in [0,2]:\n",
    "    p = l**m / factorial(m) * e**(-l)\n",
    "    print(f'P({m}) = {p:.4f}')"
   ]
  },
  {
   "cell_type": "markdown",
   "metadata": {},
   "source": [
    "3. Монету подбросили 144 раза. Какова вероятность, что орел выпадет ровно 70 раз?"
   ]
  },
  {
   "cell_type": "code",
   "execution_count": 3,
   "metadata": {},
   "outputs": [
    {
     "name": "stdout",
     "output_type": "stream",
     "text": [
      "P(X=70) = 0.0628\n"
     ]
    }
   ],
   "source": [
    "p = C(144,70) * 0.5**70 * (1-0.5)**(144-70)\n",
    "print(f'P(X=70) = {p:.4f}')"
   ]
  },
  {
   "cell_type": "markdown",
   "metadata": {},
   "source": [
    "4. В первом ящике находится 10 мячей, из которых 7 - белые. Во втором ящике - 11 мячей, из которых 9 белых. Из каждого ящика вытаскивают случайным образом по два мяча. Какова вероятность того, что все мячи белые? Какова вероятность того, что ровно два мяча белые? Какова вероятность того, что хотя бы один мяч белый?"
   ]
  },
  {
   "cell_type": "code",
   "execution_count": 4,
   "metadata": {},
   "outputs": [
    {
     "name": "stdout",
     "output_type": "stream",
     "text": [
      "P(4 белых) = 0.3055\n",
      "P(4 белых) = 0.3055\n"
     ]
    }
   ],
   "source": [
    "p = 7/10 * 6/9 * 9/11 * 8/10\n",
    "print(f'P(4 белых) = {p:.4f}')\n",
    "\n",
    "p = (C(7,2) * C(9,2)) / (C(10,2)*C(11,2))\n",
    "print(f'P(4 белых) = {p:.4f}')"
   ]
  },
  {
   "cell_type": "markdown",
   "metadata": {},
   "source": [
    "2 белых"
   ]
  },
  {
   "cell_type": "code",
   "execution_count": 5,
   "metadata": {},
   "outputs": [
    {
     "name": "stdout",
     "output_type": "stream",
     "text": [
      "P(2 белых) = 0.2048\n",
      "P(2 белых) = 0.2048\n"
     ]
    }
   ],
   "source": [
    "p = (7/10 * 3/9 + 3/10 * 7/9) * (9/11 * 2/10 + 2/11 * 9/10) + (3/10 * 2/9 * 9/11 * 8/10) + (7/10 * 6/9 * 2/11 * 1/10)\n",
    "print(f'P(2 белых) = {p:.4f}')\n",
    "\n",
    "p = (C(7,1)*C(3,1) * C(9,1)*C(2,1) + C(3,2)*C(9,2) + C(7,2)*C(2,2)) / (C(10,2)*C(11,2))\n",
    "print(f'P(2 белых) = {p:.4f}')"
   ]
  },
  {
   "cell_type": "markdown",
   "metadata": {},
   "source": [
    "1 белый"
   ]
  },
  {
   "cell_type": "code",
   "execution_count": 6,
   "metadata": {},
   "outputs": [
    {
     "name": "stdout",
     "output_type": "stream",
     "text": [
      "P(1 белый) = 0.9988\n",
      "P(1 белый) = 0.9988\n"
     ]
    }
   ],
   "source": [
    "p = 1 - 3/10 * 2/9 * 2/11 * 1/10\n",
    "print(f'P(1 белый) = {p:.4f}')\n",
    "\n",
    "p = 1 - (C(3,2) * C(2,2)) / (C(10,2)*C(11,2))\n",
    "print(f'P(1 белый) = {p:.4f}')"
   ]
  }
 ],
 "metadata": {
  "kernelspec": {
   "display_name": "Python 3",
   "language": "python",
   "name": "python3"
  },
  "language_info": {
   "codemirror_mode": {
    "name": "ipython",
    "version": 3
   },
   "file_extension": ".py",
   "mimetype": "text/x-python",
   "name": "python",
   "nbconvert_exporter": "python",
   "pygments_lexer": "ipython3",
   "version": "3.11.3"
  }
 },
 "nbformat": 4,
 "nbformat_minor": 2
}
