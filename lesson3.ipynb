{
 "cells": [
  {
   "cell_type": "markdown",
   "metadata": {},
   "source": [
    "Задание 1.\n",
    "Даны значения зарплат из выборки выпускников: 100, 80, 75, 77, 89, 33, 45, 25, 65, 17, 30, 24, 57, 55, 70, 75, 65, 84, 90, 150. Посчитать (без использования статистических методов наподобие std, var, mean) среднее арифметическое, среднее квадратичное отклонение, смещенную и несмещенную оценки дисперсий для данной выборки."
   ]
  },
  {
   "cell_type": "code",
   "execution_count": 2,
   "metadata": {},
   "outputs": [
    {
     "name": "stdout",
     "output_type": "stream",
     "text": [
      "Среднее арифметическое: 65.3\n",
      "\n"
     ]
    }
   ],
   "source": [
    "from math import sqrt, factorial\n",
    "import numpy as np\n",
    "X = np.array([100, 80, 75, 77, 89, 33, 45, 25, 65, 17, 30, 24, 57, 55, 70, 75, 65, 84, 90, 150])\n",
    "def mean(arr):\n",
    "    return sum(arr)/len(arr)\n",
    "print(f'Среднее арифметическое: {mean(X)}\\n')"
   ]
  },
  {
   "cell_type": "code",
   "execution_count": 3,
   "metadata": {},
   "outputs": [
    {
     "name": "stdout",
     "output_type": "stream",
     "text": [
      "Смещенная дисперсия: 950.11\n",
      "Несмещенная дисперсия: 1000.1158\n",
      "\n"
     ]
    }
   ],
   "source": [
    "def variance(arr, unbiased=False):\n",
    "    x_ = mean(arr)\n",
    "    return sum((arr-x_)**2)/(len(arr) - 1*int(unbiased))\n",
    "print(f'Смещенная дисперсия: {variance(X)}')\n",
    "print(f'Несмещенная дисперсия: {variance(X, True):.4f}\\n')"
   ]
  },
  {
   "cell_type": "code",
   "execution_count": 4,
   "metadata": {},
   "outputs": [
    {
     "name": "stdout",
     "output_type": "stream",
     "text": [
      "Несмещенное стандартное отклонение: 31.6246\n"
     ]
    }
   ],
   "source": [
    "def sd(arr, unbiased=True):\n",
    "    return sqrt(variance(arr, unbiased))\n",
    "print(f'Несмещенное стандартное отклонение: {sd(X, True):.4f}')"
   ]
  },
  {
   "cell_type": "markdown",
   "metadata": {},
   "source": [
    "Задание 2.\n",
    "В первом ящике находится 8 мячей, из которых 5 - белые. Во втором ящике - 12 мячей, из которых 5 белых. Из первого ящика вытаскивают случайным образом два мяча, из второго - 4. Какова вероятность того, что 3 мяча белые?"
   ]
  },
  {
   "cell_type": "code",
   "execution_count": 5,
   "metadata": {},
   "outputs": [
    {
     "name": "stdout",
     "output_type": "stream",
     "text": [
      "P(A) = 0.3687\n"
     ]
    }
   ],
   "source": [
    "def C(n, k):\n",
    "    return factorial(n) // (factorial(k) * (factorial(n - k)))\n",
    "\n",
    "A = C(3,2)*C(5,3)*C(7,1) + C(5,1)*C(3,1)*C(5,2)*C(7,2) + C(5,2)*C(5,1)*C(7,3)\n",
    "O = C(8,2)*C(12,4)\n",
    "print(f'P(A) = {A/O:.4f}')"
   ]
  },
  {
   "cell_type": "markdown",
   "metadata": {},
   "source": [
    "Задание 3.\n",
    "На соревновании по биатлону один из трех спортсменов стреляет и попадает в мишень. Вероятность попадания для первого спортсмена равна 0.9, для второго — 0.8, для третьего — 0.6. Найти вероятность того, что выстрел произведен: a) первым спортсменом; б) вторым спортсменом; в) третьим спортсменом."
   ]
  },
  {
   "cell_type": "code",
   "execution_count": 6,
   "metadata": {},
   "outputs": [
    {
     "name": "stdout",
     "output_type": "stream",
     "text": [
      "P(B) = 0.7667\n",
      "P(A1|B) = 0.3913\n",
      "P(A2|B) = 0.3478\n",
      "P(A3|B) = 0.2609\n"
     ]
    }
   ],
   "source": [
    "pb = 1/3 * (0.9 + 0.8 + 0.6)\n",
    "print(f'P(B) = {pb:.4f}')\n",
    "print(f'P(A1|B) = {0.9 / pb * 1/3:.4f}')\n",
    "print(f'P(A2|B) = {0.8 / pb * 1/3:.4f}')\n",
    "print(f'P(A3|B) = {0.6 / pb * 1/3:.4f}')"
   ]
  },
  {
   "cell_type": "markdown",
   "metadata": {},
   "source": [
    "Задание 4.\n",
    "В университет на факультеты A и B поступило равное количество студентов, а на факультет C студентов поступило столько же, сколько на A и B вместе. Вероятность того, что студент факультета A сдаст первую сессию, равна 0.8. Для студента факультета B эта вероятность равна 0.7, а для студента факультета C - 0.9. Студент сдал первую сессию. Какова вероятность, что он учится: a) на факультете A; б) на факультете B; в) на факультете C?"
   ]
  },
  {
   "cell_type": "code",
   "execution_count": 7,
   "metadata": {},
   "outputs": [
    {
     "name": "stdout",
     "output_type": "stream",
     "text": [
      "P(B) = 0.8250\n",
      "P(Aa|B) = 0.2424\n",
      "P(Ab|B) = 0.2121\n",
      "P(Ac|B) = 0.5455\n"
     ]
    }
   ],
   "source": [
    "pb = 1/4 * (0.8 + 0.7) + 0.9 * 1/2\n",
    "print(f'P(B) = {pb:.4f}')\n",
    "print(f'P(Aa|B) = {0.8 / pb * 1/4:.4f}')\n",
    "print(f'P(Ab|B) = {0.7 / pb * 1/4:.4f}')\n",
    "print(f'P(Ac|B) = {0.9 / pb * 1/2:.4f}')"
   ]
  },
  {
   "cell_type": "markdown",
   "metadata": {},
   "source": [
    "Задание 5.\n",
    "Устройство состоит из трех деталей. Для первой детали вероятность выйти из строя в первый месяц равна 0.1, для второй - 0.2, для третьей - 0.25. Какова вероятность того, что в первый месяц выйдут из строя: а) все детали б) только две детали в) хотя бы одна деталь г) от одной до двух деталей?"
   ]
  },
  {
   "cell_type": "code",
   "execution_count": 9,
   "metadata": {},
   "outputs": [
    {
     "name": "stdout",
     "output_type": "stream",
     "text": [
      "P(3) = 0.0050\n",
      "P(2) = 0.08000000000000002\n",
      "P(хобя бы 1 деталь) = 0.4600\n"
     ]
    }
   ],
   "source": [
    "print(f'P(3) = {0.1*0.2*0.25:.4f}')\n",
    "print(f'P(2) = {0.1*0.2*0.75 + 0.1*0.8*0.25 + 0.9*0.2*0.25}')\n",
    "print(f'P(хобя бы 1 деталь) = {1-0.9*0.8*0.75:.4f}')"
   ]
  },
  {
   "cell_type": "markdown",
   "metadata": {},
   "source": [
    "P(0)+P(1)+P(2)+P(3)=0.54+P(1)+0.08+0.005=1 \n",
    "P(1)=1-0.625+0.375P(1U2)=P(1)+P(2)=0.375+0.08=0.455"
   ]
  }
 ],
 "metadata": {
  "kernelspec": {
   "display_name": "Python 3",
   "language": "python",
   "name": "python3"
  },
  "language_info": {
   "codemirror_mode": {
    "name": "ipython",
    "version": 3
   },
   "file_extension": ".py",
   "mimetype": "text/x-python",
   "name": "python",
   "nbconvert_exporter": "python",
   "pygments_lexer": "ipython3",
   "version": "3.11.3"
  }
 },
 "nbformat": 4,
 "nbformat_minor": 2
}
