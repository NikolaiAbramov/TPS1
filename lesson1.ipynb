{
 "cells": [
  {
   "cell_type": "markdown",
   "metadata": {},
   "source": [
    "1. Из колоды в 52 карты извлекаются случайным образом 4 карты. a. Найти вероятность того, что все карты – крести. "
   ]
  },
  {
   "cell_type": "code",
   "execution_count": 2,
   "metadata": {},
   "outputs": [
    {
     "name": "stdout",
     "output_type": "stream",
     "text": [
      "m = 715\n",
      "n = 270725\n",
      "P(4крести) = 715 / 270725 = 0.0026\n",
      "P(4трефы) = 0.0026\n"
     ]
    }
   ],
   "source": [
    "from math import factorial\n",
    "def P(n):\n",
    "    return factorial(n)\n",
    "def A(n, k):\n",
    "    return factorial(n) // factorial(n - k)\n",
    "def C(n, k):\n",
    "    return factorial(n) // (factorial(k) * (factorial(n - k)))\n",
    "\n",
    "m = C(13,4)\n",
    "print(f'{m = }')\n",
    "\n",
    "n = C(52,4)\n",
    "print(f'{n = }')\n",
    "\n",
    "p = m / n\n",
    "print(f'P(4крести) = {m} / {n} = {p:.4f}')\n",
    "p = 13/52 * 12/51 * 11/50 * 10/49\n",
    "print(f'P(4крести) = {p:.4f}')"
   ]
  },
  {
   "cell_type": "markdown",
   "metadata": {},
   "source": [
    "б. Найти вероятность, что среди 4-х карт окажется хотя бы один туз."
   ]
  },
  {
   "cell_type": "code",
   "execution_count": 3,
   "metadata": {},
   "outputs": [
    {
     "name": "stdout",
     "output_type": "stream",
     "text": [
      "m = 76145\n",
      "n = 270725\n",
      "P(1 туз) = 76145 / 270725 = 0.2813\n",
      "m = 194580\n",
      "n = 270725\n",
      "P(1 туз) = 1 - 194580 / 270725 = 0.2813\n"
     ]
    }
   ],
   "source": [
    "m = C(4,1)*C(48,3) + C(4,2)*C(48,2) + C(4,3)*C(48,1) + C(4,4)\n",
    "print(f'{m = }')\n",
    "\n",
    "n = C(52,4)\n",
    "print(f'{n = }')\n",
    "\n",
    "p = m / n\n",
    "print(f'P(1 туз) = {m} / {n} = {p:.4f}')\n",
    "\n",
    "m = C(48,4)\n",
    "print(f'{m = }')\n",
    "\n",
    "n = C(52,4)\n",
    "print(f'{n = }')\n",
    "\n",
    "p = 1 - m / n\n",
    "print(f'P(1 туз) = 1 - {m} / {n} = {p:.4f}')"
   ]
  },
  {
   "cell_type": "markdown",
   "metadata": {},
   "source": [
    "2. На входной двери подъезда установлен кодовый замок, содержащий десять кнопок с цифрами от 0 до 9. \n",
    "Код содержит три цифры, которые нужно нажать одновременно. \n",
    "Какова вероятность того, что человек, не знающий код, откроет дверь с первой попытки?\n"
   ]
  },
  {
   "cell_type": "code",
   "execution_count": 4,
   "metadata": {},
   "outputs": [
    {
     "name": "stdout",
     "output_type": "stream",
     "text": [
      "m = 1\n",
      "n = 120\n",
      "P(с первой попытки) = 1 / 120 = 0.0083\n"
     ]
    }
   ],
   "source": [
    "m = 1\n",
    "print(f'{m = }')\n",
    "\n",
    "n = C(10,3)\n",
    "print(f'{n = }')\n",
    "\n",
    "p = m / n\n",
    "print(f'P(с первой попытки) = {m} / {n} = {p:.4f}')"
   ]
  },
  {
   "cell_type": "markdown",
   "metadata": {},
   "source": [
    "3. В ящике имеется 15 деталей, из которых 9 окрашены. Рабочий случайным образом извлекает 3 детали. Какова вероятность того, что все извлеченные детали окрашены?"
   ]
  },
  {
   "cell_type": "code",
   "execution_count": 5,
   "metadata": {},
   "outputs": [
    {
     "name": "stdout",
     "output_type": "stream",
     "text": [
      "m = 84\n",
      "n = 455\n",
      "P(3 из 3х окрашены) = 84 / 455 = 0.1846\n",
      "P(3 из 3х окрашены) = 0.1846\n"
     ]
    }
   ],
   "source": [
    "m = C(9,3)\n",
    "print(f'{m = }')\n",
    "\n",
    "n = C(15,3)\n",
    "print(f'{n = }')\n",
    "\n",
    "p = m / n\n",
    "print(f'P(3 из 3х окрашены) = {m} / {n} = {p:.4f}')\n",
    "\n",
    "p = 9/15 * 8/14 * 7/13\n",
    "print(f'P(3 из 3х окрашены) = {p:.4f}')"
   ]
  },
  {
   "cell_type": "markdown",
   "metadata": {},
   "source": [
    "4. В лотерее 100 билетов. Из них 2 выигрышных. Какова вероятность того, что 2 приобретенных билета окажутся выигрышными?"
   ]
  },
  {
   "cell_type": "code",
   "execution_count": 6,
   "metadata": {},
   "outputs": [
    {
     "name": "stdout",
     "output_type": "stream",
     "text": [
      "m = 1\n",
      "n = 4950\n",
      "P(оба выигрышных) = 1 / 4950 = 0.0002\n",
      "P(оба выигрышных) = 0.0002\n"
     ]
    }
   ],
   "source": [
    "m = 1\n",
    "print(f'{m = }')\n",
    "\n",
    "n = C(100,2)\n",
    "print(f'{n = }')\n",
    "\n",
    "p = m / n\n",
    "print(f'P(оба выигрышных) = {m} / {n} = {p:.4f}')\n",
    "\n",
    "p = 2/100 * 1/99\n",
    "print(f'P(оба выигрышных) = {p:.4f}')"
   ]
  }
 ],
 "metadata": {
  "kernelspec": {
   "display_name": "Python 3",
   "language": "python",
   "name": "python3"
  },
  "language_info": {
   "codemirror_mode": {
    "name": "ipython",
    "version": 3
   },
   "file_extension": ".py",
   "mimetype": "text/x-python",
   "name": "python",
   "nbconvert_exporter": "python",
   "pygments_lexer": "ipython3",
   "version": "3.11.3"
  }
 },
 "nbformat": 4,
 "nbformat_minor": 2
}
